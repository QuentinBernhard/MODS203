{
 "cells": [
  {
   "cell_type": "code",
   "execution_count": 233,
   "metadata": {},
   "outputs": [],
   "source": [
    "import time\n",
    "import numpy as np\n",
    "import pandas as pd\n",
    "\n",
    "from selenium.webdriver.support.wait import WebDriverWait\n",
    "from webdriver_manager.chrome import ChromeDriverManager\n",
    "\n",
    "from selenium.webdriver.common.by import By\n",
    "from selenium.webdriver.common.keys import Keys\n",
    "from selenium.webdriver.support import expected_conditions as EC\n",
    "from selenium import webdriver\n",
    "from selenium.webdriver.common.keys import Keys\n"
   ]
  },
  {
   "cell_type": "markdown",
   "metadata": {},
   "source": [
    "# Controlling the webdriver  \n",
    "Firstly, we want to access the webpage doctolib. To do that we have to create a connector with Selenium and the launch the driver"
   ]
  },
  {
   "cell_type": "code",
   "execution_count": 234,
   "metadata": {},
   "outputs": [],
   "source": [
    "tempsAttente = 3    #temps d'attente en secondes avant qu'il y a un timeout de Webdriverwait.until()\n",
    "\n",
    "class Driver:\n",
    "\n",
    "    def __init__(self):\n",
    "        options = webdriver.ChromeOptions()\n",
    "        options.add_argument(\"start-maximized\")\n",
    "        options.add_argument(\"--disable-blink-features\")\n",
    "        options.add_argument(\"disable-popup-blocking\")\n",
    "        options.add_argument(\"disable-notifications\")\n",
    "        options.add_argument(\"--disable-blink-features=AutomationControlled\")\n",
    "        options.add_experimental_option(\"excludeSwitches\", [\"enable-automation\"])\n",
    "        options.add_experimental_option('useAutomationExtension', False)\n",
    "        self.driver = webdriver.Chrome(ChromeDriverManager().install())\n",
    "\n",
    "\n",
    "    #Lancer google chrome avec la page doctolib\n",
    "\n",
    "    def connect(self, url):\n",
    "        self.driver.get(url)\n",
    "        # TabsInteraction.TabsCreation(self.driver, \"https://www.doctolib.fr\", \"\")\n",
    "        # TabsInteraction.switchToTab(self.driver, 0)\n",
    "        print(\"Connecting to\", url)\n",
    "        time.sleep(1)\n",
    "\n",
    "\n",
    "    #for now we get only the first doctors that appear in the page\n",
    "    def getDoctors(self, specialization, city):\n",
    "\n",
    "        doctors = []\n",
    "\n",
    "        #writing the specialization\n",
    "        WebDriverWait(self.driver, tempsAttente).until(EC.visibility_of_element_located((By.XPATH, '//input[@class=\"searchbar-input searchbar-query-input\"]')))\n",
    "        self.driver.find_element(By.XPATH, '//input[@class=\"searchbar-input searchbar-query-input\"]').clear()\n",
    "        self.driver.find_element(By.XPATH, '//input[@class=\"searchbar-input searchbar-query-input\"]').send_keys(specialization)\n",
    "        time.sleep(1)\n",
    "\n",
    "        #writing the city\n",
    "        WebDriverWait(self.driver, tempsAttente).until(EC.visibility_of_element_located((By.XPATH, '//input[@class=\"searchbar-input searchbar-place-input\"]')))\n",
    "        self.driver.find_element(By.XPATH, '//input[@class=\"searchbar-input searchbar-place-input\"]').clear()\n",
    "        self.driver.find_element(By.XPATH, '//input[@class=\"searchbar-input searchbar-place-input\"]').send_keys(city)\n",
    "        time.sleep(1)\n",
    "        #We need to enter the city to register it\n",
    "        self.driver.find_element(By.XPATH, '//input[@class=\"searchbar-input searchbar-place-input\"]').send_keys(Keys.ENTER)\n",
    "\n",
    "        WebDriverWait(self.driver, tempsAttente).until(EC.visibility_of_element_located((By.XPATH, '//span[@class=\"searchbar-submit-button-label dl-text-transform-none\"]')))\n",
    "        self.driver.find_element(By.XPATH, '//span[@class=\"searchbar-submit-button-label dl-text-transform-none\"]').click()\n",
    "\n",
    "        print('Searching results for :', specialization, 'in', city)\n",
    "        time.sleep(2)\n",
    "\n",
    "        WebDriverWait(self.driver, 10).until(EC.visibility_of_element_located((By.XPATH, '//h4[@class=\"dl-text dl-text-body dl-text-bold dl-text-s dl-text-neutral-150 total-number-of-results dl-margin-r-8\"]')))\n",
    "        #number of doctors in city\n",
    "        nbr_result = self.driver.find_element(By.XPATH, '//h4[@class=\"dl-text dl-text-body dl-text-bold dl-text-s dl-text-neutral-150 total-number-of-results dl-margin-r-8\"]').text.split(\" \")[0]\n",
    "        #nbr of doctors we want\n",
    "        nbr = int(int(nbr_result)*0.2)\n",
    "        #nbr of pages\n",
    "        pages = nbr//20\n",
    "        print(pages)\n",
    "\n",
    "        for _ in range(pages + 1):\n",
    "            \n",
    "            self.driver.execute_script(\"window.scrollTo(0, 6300);\")\n",
    "            \n",
    "            WebDriverWait(self.driver, tempsAttente).until(EC.visibility_of_element_located((By.XPATH, '//div[@class=\"dl-search-result\"]')))\n",
    "            docs = self.driver.find_elements(By.XPATH, '//div[@class=\"dl-search-result\"]')\n",
    "            \n",
    "            for doctor in docs:\n",
    "                #first we get the \"easy\" features\n",
    "                name = doctor.find_element(By.XPATH, './/h3[@data-test=\"dl-search-result-name\"]').text\n",
    "                city = city\n",
    "                specialization = specialization\n",
    "\n",
    "                #the the harder ones\n",
    "                try:\n",
    "                    WebDriverWait(self.driver, tempsAttente).until(EC.visibility_of_element_located((By.XPATH, './/div[@class=\"Tappable-inactive availabilities-slot\"]')))\n",
    "                    first_dispo = doctor.find_element(By.XPATH, './/div[@class=\"Tappable-inactive availabilities-slot\"]').get_attribute('aria-label')\n",
    "                except:\n",
    "                    try:\n",
    "                        WebDriverWait(self.driver, tempsAttente).until(EC.visibility_of_element_located((By.XPATH, './/span[@class=\"dl-button-label\"]')))\n",
    "                        first_dispo = doctor.find_elements(By.XPATH, './/span[@class=\"dl-button-label\"]')[1].text.split(\" \")[3:5]\n",
    "                    except:\n",
    "                        first_dispo = 'null'    #means that there are no near in time disponibilites\n",
    "\n",
    "                print(name, first_dispo)\n",
    "                fee = \"\"\n",
    "                doctors.append(Doctor(name, city, specialization, first_dispo, fee))\n",
    "\n",
    "            try:\n",
    "                WebDriverWait(self.driver, 3).until(EC.visibility_of_element_located((By.XPATH, \"//a[text()='Suivant']\")))\n",
    "                self.driver.find_element(By.XPATH, \"//a[text()='Suivant']\").click()\n",
    "            except:\n",
    "                pass\n",
    "\n",
    "\n",
    "        return doctors\n",
    "\n",
    "    def getFees(self, name):\n",
    "        self.driver.find_element(By.XPATH, '//div[@class=\"logo-doctolib logo-doctolib-white\"]').click()\n",
    "\n",
    "        #writing the doctor name\n",
    "        WebDriverWait(self.driver, tempsAttente).until(EC.visibility_of_element_located((By.XPATH, '//input[@class=\"searchbar-input searchbar-query-input\"]')))\n",
    "        self.driver.find_element(By.XPATH, '//input[@class=\"searchbar-input searchbar-query-input\"]').clear()\n",
    "        self.driver.find_element(By.XPATH, '//input[@class=\"searchbar-input searchbar-query-input\"]').send_keys(name)\n",
    "        #We need to enter the city to register it\n",
    "\n",
    "        try:\n",
    "            WebDriverWait(self.driver, 0.5).until(EC.visibility_of_element_located((By.XPATH, '//input[@class=\"searchbar-input searchbar-query-input searchbar-query-input-opened\"]')))\n",
    "            self.driver.find_element(By.XPATH, '//input[@class=\"searchbar-input searchbar-query-input searchbar-query-input-opened\"]').send_keys(Keys.ENTER)\n",
    "        except:\n",
    "            return 'Weird value'\n",
    "\n",
    "        try:\n",
    "            WebDriverWait(self.driver, tempsAttente).until(EC.visibility_of_element_located((By.XPATH, '//div[@class=\"dl-profile-fee-tag\"]')))\n",
    "            fee = self.driver.find_element(By.XPATH, '//div[@class=\"dl-profile-fee-tag\"]').text\n",
    "            fee = str(int(fee.split(\" \")[0]))\n",
    "        except:\n",
    "            fee = 'Conventionné'        #if the fee tag cannot be found it means that it is conventionné\n",
    "\n",
    "        return fee\n",
    "            \n",
    "        \n"
   ]
  },
  {
   "cell_type": "markdown",
   "metadata": {},
   "source": [
    "We created a Doctor class to manipulate more easily the doctors features"
   ]
  },
  {
   "cell_type": "code",
   "execution_count": 235,
   "metadata": {},
   "outputs": [],
   "source": [
    "class Doctor():\n",
    "    def __init__(self, name, city, specialization, first_dispo, fee):\n",
    "        self.name = name\n",
    "        self.city = city\n",
    "        self.specialization = specialization\n",
    "        self.first_dispo = first_dispo\n",
    "        self.fee = fee\n",
    "\n",
    "    def features(self):\n",
    "        return(self.name, self.city, self.specialization, self.first_dispo, self.fee)"
   ]
  },
  {
   "cell_type": "markdown",
   "metadata": {},
   "source": [
    "These are the cities and specializations we looked at first :  \n",
    "Lyon and Paris are bug cities and Sancerre and Confolens are small ones, we did this in order to compare fees and disponibilites at first glance."
   ]
  },
  {
   "cell_type": "code",
   "execution_count": 236,
   "metadata": {},
   "outputs": [],
   "source": [
    "cities = ['Poitiers', 'Rochefourchat', 'Majastres', 'Aulan', 'Ornes', 'Baren', 'Senconac', 'Caubous', 'Sancerre', 'Paris', 'Lyon', 'Marseille', 'Toulouse', 'Nice', 'Nantes', 'Montpellier', 'Strasbourg', 'Bordeaux', 'Lille', 'Poitiers', 'Dunkerque', 'Pau', 'Mulhouse', 'Lorient', 'Le Havre', 'Annecy', 'Troyes', 'La Rochelle', 'Amiens']\n",
    "specializations = ['Medecin generaliste', 'Chirurgien-dentiste', 'Ophtalmologue', 'Dermatologue et venerologue', 'Cardiologue', 'Rhumatologue']"
   ]
  },
  {
   "cell_type": "code",
   "execution_count": 237,
   "metadata": {},
   "outputs": [
    {
     "name": "stderr",
     "output_type": "stream",
     "text": [
      "/var/folders/bm/t8hxv1ms6s30y8czfw0pmfk00000gn/T/ipykernel_2019/1043591837.py:14: DeprecationWarning: executable_path has been deprecated, please pass in a Service object\n",
      "  self.driver = webdriver.Chrome(ChromeDriverManager().install())\n"
     ]
    },
    {
     "name": "stdout",
     "output_type": "stream",
     "text": [
      "Connecting to https://www.doctolib.fr\n",
      "Searching results for : Medecin generaliste in Poitiers\n",
      "1\n",
      "Dr David CHAMBENOIT ['18', 'janvier']\n",
      "Dr Céline BRECHON-GIRAUD ['11', 'janvier']\n",
      "Dr Alain SHEIKHALISHAHI ['26', 'janvier']\n",
      "Dr Violaine Ricoulleau ['11', 'janvier']\n",
      "Dr Airelle PLANQUES ['16', 'janvier']\n",
      "Laura BORTHOMIEU ['18', 'janvier']\n",
      "Dr Angèle DEMION ['12', 'janvier']\n",
      "Dr Karine Brunet ['17', 'janvier']\n",
      "Dr Céline BRECHON-GIRAUD ['12', 'janvier']\n",
      "Centre Médical de Soins Immédiats 86 jeu. 5 janv. 17:00\n",
      "Dr Cécile HUMMEL ['9', 'janvier']\n",
      "Dr Elsa CANTOS jeu. 5 janv. 16:30\n",
      "Dr Claire REIF null\n",
      "Dr Sébastien Caquelin null\n",
      "Patricia Mercade Point null\n",
      "Dr Mathilde COULAIS null\n",
      "Stephane Colin null\n",
      "Dr Lakshmipriya Le Bonheur null\n",
      "Dr François Birault null\n",
      "Dr Gabrielle Pequeriau null\n",
      "Dr Lucile Partaud null\n",
      "Dr Marion Delouche null\n",
      "Dr David Souchaud null\n",
      "Dr Stéphanie Mignot - Grandcolin null\n",
      "Dr Laurent Toma null\n",
      "Nathalie Dumureau Peltier null\n",
      "Marc BAHUET null\n",
      "Christophe INGRAND null\n",
      "Dr Déborah CARRIN null\n",
      "Dr Bénédicte Garrigue-Guyonnaud null\n",
      "Dr Yann Tierce ['12', 'janvier']\n",
      "Vincent Louette ['11', 'janvier']\n",
      "Justine Martin ['11', 'janvier']\n",
      "Dr Amandine Merrant ['19', 'janvier']\n",
      "Dr Godefroy Baune ['12', 'janvier']\n",
      "Dr Dolorès LACOSTE ['27', 'janvier']\n",
      "Dr Arnaud Bossard ['16', 'janvier']\n",
      "Dr Aurélie Charonnet ['16', 'janvier']\n",
      "Dr Jean-Luc Autuoro ['12', 'janvier']\n",
      "Dr Xavier LEMERCIER ['13', 'janvier']\n",
      "[<__main__.Doctor object at 0x145820450>, <__main__.Doctor object at 0x145584fd0>, <__main__.Doctor object at 0x1457aba50>, <__main__.Doctor object at 0x1457a8750>, <__main__.Doctor object at 0x145820050>, <__main__.Doctor object at 0x145822b10>, <__main__.Doctor object at 0x1427e5b10>, <__main__.Doctor object at 0x145823910>, <__main__.Doctor object at 0x145822d10>, <__main__.Doctor object at 0x145823f50>, <__main__.Doctor object at 0x1458232d0>, <__main__.Doctor object at 0x1458224d0>, <__main__.Doctor object at 0x145821990>, <__main__.Doctor object at 0x145821a90>, <__main__.Doctor object at 0x145823150>, <__main__.Doctor object at 0x1457eb850>, <__main__.Doctor object at 0x1457e93d0>, <__main__.Doctor object at 0x1457e81d0>, <__main__.Doctor object at 0x1457eb490>, <__main__.Doctor object at 0x145585990>, <__main__.Doctor object at 0x1458219d0>, <__main__.Doctor object at 0x1457a80d0>, <__main__.Doctor object at 0x1457a8190>, <__main__.Doctor object at 0x1455ce750>, <__main__.Doctor object at 0x145820390>, <__main__.Doctor object at 0x1455cf610>, <__main__.Doctor object at 0x1457ab4d0>, <__main__.Doctor object at 0x145822450>, <__main__.Doctor object at 0x1455ce090>, <__main__.Doctor object at 0x143e725d0>, <__main__.Doctor object at 0x145823590>, <__main__.Doctor object at 0x145823410>, <__main__.Doctor object at 0x14574bf10>, <__main__.Doctor object at 0x1457eb350>, <__main__.Doctor object at 0x1455d86d0>, <__main__.Doctor object at 0x145670e90>, <__main__.Doctor object at 0x143a9a650>, <__main__.Doctor object at 0x145689890>, <__main__.Doctor object at 0x1457e9610>, <__main__.Doctor object at 0x1457a8610>]\n",
      "Searching results for : Chirurgien-dentiste in Poitiers\n",
      "0\n",
      "Dr Alin Fodor null\n"
     ]
    }
   ],
   "source": [
    "connector = Driver()\n",
    "connector.connect(\"https://www.doctolib.fr\")\n",
    "doctors = []\n",
    "\n",
    "#Get all the doctors names, cities, specializations and their next possible reservation\n",
    "\n",
    "for city in cities:\n",
    "    for spec in specializations:\n",
    "        doctors = doctors + connector.getDoctors(spec, city)\n",
    "        docs = []\n",
    "        for doc in doctors:\n",
    "            docs.append(doc.features())\n",
    "        pd.DataFrame(docs, columns=['Name', 'Specialization', 'City', 'Waiting Time', 'Fees']).to_csv(\"doctors.csv\")"
   ]
  },
  {
   "cell_type": "code",
   "execution_count": null,
   "metadata": {},
   "outputs": [
    {
     "name": "stdout",
     "output_type": "stream",
     "text": [
      "('Dr Joël Valendoff', 'Paris', 'Medecin generaliste', 'null', '')\n",
      "('Dr Ridha MAHJOUB', 'Paris', 'Medecin generaliste', 'null', '')\n",
      "('Dr Léa Athias', 'Paris', 'Medecin generaliste', 'null', '')\n",
      "('Dr Patricia Mussuto', 'Paris', 'Medecin generaliste', 'null', '')\n",
      "('Dr Maurice KONQUI', 'Paris', 'Medecin generaliste', 'null', '')\n",
      "('Dr Didier Montloin', 'Paris', 'Medecin generaliste', 'null', '')\n",
      "('Dr Isaac Bohbot', 'Paris', 'Medecin generaliste', 'null', '')\n",
      "('Dr Serge ALPERIN', 'Paris', 'Medecin generaliste', 'null', '')\n",
      "('Dr Françoise BARRO-LECOMTE', 'Paris', 'Medecin generaliste', 'null', '')\n",
      "('Dr Eric FISCHER', 'Paris', 'Medecin generaliste', 'null', '')\n",
      "('Dr Jean-Luc THOMAS', 'Paris', 'Medecin generaliste', 'null', '')\n",
      "('Institut Alfred Fournier', 'Paris', 'Medecin generaliste', 'null', '')\n",
      "('Centre de Santé (CDS) - Bauchat Nation', 'Paris', 'Medecin generaliste', 'null', '')\n",
      "('Centre de santé de Belleville', 'Paris', 'Medecin generaliste', 'null', '')\n",
      "('Dr Marie Paule VIGLA', 'Paris', 'Medecin generaliste', 'null', '')\n",
      "('Dr Benoît GUYON', 'Paris', 'Medecin generaliste', 'null', '')\n",
      "('Dr Dikran Mouradian', 'Paris', 'Medecin generaliste', 'null', '')\n",
      "('Dr Christophe LADARRE', 'Paris', 'Medecin generaliste', 'null', '')\n",
      "('Centre de santé Yvonne Pouzin', 'Paris', 'Medecin generaliste', 'null', '')\n",
      "('Dr Catherine Dupuy', 'Paris', 'Medecin generaliste', 'null', '')\n",
      "('Dr Siamak YAVARI', 'Paris', 'Dentiste', 'null', '')\n",
      "('Dr Gloria JEUDI DE GRISSAC', 'Paris', 'Dentiste', 'null', '')\n",
      "('Dr Marie Perrin', 'Paris', 'Dentiste', 'null', '')\n",
      "('Dr Iris HADDAD', 'Paris', 'Dentiste', 'null', '')\n",
      "('Dr Xavier Bompard', 'Paris', 'Dentiste', 'null', '')\n",
      "('Dr Valter flor', 'Paris', 'Dentiste', 'null', '')\n",
      "('Dr Joelle FHIMA JOURNO', 'Paris', 'Dentiste', 'null', '')\n",
      "('Centre médical et dentaire - Dentymed Paris 20e Gambetta - Pyrénées', 'Paris', 'Dentiste', 'null', '')\n",
      "('AUDAN - Centre dentaire Brune', 'Paris', 'Dentiste', 'null', '')\n",
      "('Dr Mylene BENASSAIA', 'Paris', 'Dentiste', 'null', '')\n",
      "('Dr Mathilde GRASSIN', 'Paris', 'Dentiste', 'null', '')\n",
      "('Dr Levana AYACHE', 'Paris', 'Dentiste', 'null', '')\n",
      "('Dr Lorraine COBELAS', 'Paris', 'Dentiste', 'null', '')\n",
      "('Dr Arnauld GOLLETY', 'Paris', 'Dentiste', 'null', '')\n",
      "('Dr Béatrice MELKA COSCAS', 'Paris', 'Dentiste', 'null', '')\n",
      "('Cabinet médical et dentaire de la Place du Commerce', 'Paris', 'Dentiste', 'null', '')\n",
      "('Dr Jérémy BOUGANIM', 'Paris', 'Dentiste', 'null', '')\n",
      "('Centre dentaire Vaugirard - Stardent', 'Paris', 'Dentiste', 'null', '')\n",
      "('Dr Jean-Pierre CURIEL', 'Paris', 'Dentiste', 'null', '')\n",
      "('Dr Joseph Derhy', 'Paris', 'Dentiste', 'null', '')\n"
     ]
    }
   ],
   "source": [
    "for doctor in doctors:\n",
    "    if doctor.city == 'Paris':\n",
    "        print(doctor.features())"
   ]
  },
  {
   "cell_type": "markdown",
   "metadata": {},
   "source": [
    "We can see that there are no disponibilites for any doctor. This means that we will have to dig for more doctors as we are only taking the first ones at the moment."
   ]
  },
  {
   "cell_type": "code",
   "execution_count": null,
   "metadata": {},
   "outputs": [],
   "source": [
    "#Now we need to find the fees for each doctor\n",
    "\n",
    "connector = Driver()\n",
    "connector.connect(\"https://www.doctolib.fr\")\n",
    "\n",
    "for doctor in doctors:\n",
    "    fee = connector.getFees(doctor.name)\n",
    "    doctor.fee = fee\n",
    "    "
   ]
  },
  {
   "cell_type": "code",
   "execution_count": null,
   "metadata": {},
   "outputs": [],
   "source": [
    "doctors_features = []\n",
    "\n",
    "for doctor in doctors:\n",
    "    doctors_features.append(doctor.features())"
   ]
  },
  {
   "cell_type": "code",
   "execution_count": null,
   "metadata": {},
   "outputs": [],
   "source": [
    "pd.DataFrame(doctors_features, columns=['Name', 'Specialization', 'City', 'Waiting Time', 'Fees']).to_csv(\"doctors_features.csv\")"
   ]
  },
  {
   "cell_type": "code",
   "execution_count": null,
   "metadata": {},
   "outputs": [],
   "source": []
  },
  {
   "cell_type": "code",
   "execution_count": null,
   "metadata": {},
   "outputs": [
    {
     "name": "stdout",
     "output_type": "stream",
     "text": [
      "[<__main__.Doctor object at 0x1441331d0>, <__main__.Doctor object at 0x14566acd0>, <__main__.Doctor object at 0x14572f9d0>, <__main__.Doctor object at 0x1457ce690>, <__main__.Doctor object at 0x145578310>, <__main__.Doctor object at 0x1457cf710>, <__main__.Doctor object at 0x1457cfbd0>, <__main__.Doctor object at 0x1457cc790>, <__main__.Doctor object at 0x1457cd110>, <__main__.Doctor object at 0x14566b190>, <__main__.Doctor object at 0x1457cc390>, <__main__.Doctor object at 0x14566bb90>, <__main__.Doctor object at 0x144132850>, <__main__.Doctor object at 0x1457cff10>, <__main__.Doctor object at 0x14566af50>, <__main__.Doctor object at 0x1457cc8d0>, <__main__.Doctor object at 0x1457bc050>, <__main__.Doctor object at 0x14572da90>, <__main__.Doctor object at 0x14566a450>, <__main__.Doctor object at 0x1457bd7d0>, <__main__.Doctor object at 0x14566a510>, <__main__.Doctor object at 0x1457ce950>, <__main__.Doctor object at 0x14572c690>, <__main__.Doctor object at 0x14412e310>, <__main__.Doctor object at 0x14412f0d0>, <__main__.Doctor object at 0x144115050>, <__main__.Doctor object at 0x145668690>, <__main__.Doctor object at 0x144123d10>, <__main__.Doctor object at 0x14572ed10>, <__main__.Doctor object at 0x14412f590>, <__main__.Doctor object at 0x1456c6d90>, <__main__.Doctor object at 0x1457ccd10>, <__main__.Doctor object at 0x143e644d0>, <__main__.Doctor object at 0x143e65b10>, <__main__.Doctor object at 0x1457cc750>, <__main__.Doctor object at 0x145722b90>, <__main__.Doctor object at 0x1457cc610>, <__main__.Doctor object at 0x145721410>, <__main__.Doctor object at 0x14566b550>, <__main__.Doctor object at 0x1457bf6d0>]\n"
     ]
    }
   ],
   "source": [
    "print(doctors)"
   ]
  }
 ],
 "metadata": {
  "interpreter": {
   "hash": "5c7b89af1651d0b8571dde13640ecdccf7d5a6204171d6ab33e7c296e100e08a"
  },
  "kernelspec": {
   "display_name": "Python 3.11.0 64-bit",
   "language": "python",
   "name": "python3"
  },
  "language_info": {
   "codemirror_mode": {
    "name": "ipython",
    "version": 3
   },
   "file_extension": ".py",
   "mimetype": "text/x-python",
   "name": "python",
   "nbconvert_exporter": "python",
   "pygments_lexer": "ipython3",
   "version": "3.11.0"
  },
  "orig_nbformat": 4
 },
 "nbformat": 4,
 "nbformat_minor": 2
}
