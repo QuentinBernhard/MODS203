{
 "cells": [
  {
   "cell_type": "code",
   "execution_count": 291,
   "metadata": {},
   "outputs": [],
   "source": [
    "import time\n",
    "import numpy as np\n",
    "import pandas as pd\n",
    "import datetime\n",
    "\n",
    "from selenium.webdriver.support.wait import WebDriverWait\n",
    "from webdriver_manager.chrome import ChromeDriverManager\n",
    "\n",
    "from selenium.webdriver.common.by import By\n",
    "from selenium.webdriver.common.keys import Keys\n",
    "from selenium.webdriver.support import expected_conditions as EC\n",
    "from selenium import webdriver\n",
    "from selenium.webdriver.common.keys import Keys\n"
   ]
  },
  {
   "cell_type": "markdown",
   "metadata": {},
   "source": [
    "# Controlling the webdriver  \n",
    "Firstly, we want to access the webpage doctolib. To do that we have to create a connector with Selenium and the launch the driver"
   ]
  },
  {
   "cell_type": "code",
   "execution_count": 292,
   "metadata": {},
   "outputs": [],
   "source": [
    "tempsAttente = 3    #temps d'attente en secondes avant qu'il y a un timeout de Webdriverwait.until()\n",
    "\n",
    "class Driver:\n",
    "\n",
    "    def __init__(self):\n",
    "        options = webdriver.ChromeOptions()\n",
    "        options.add_argument(\"start-maximized\")\n",
    "        options.add_argument(\"--disable-blink-features\")\n",
    "        options.add_argument(\"disable-popup-blocking\")\n",
    "        options.add_argument(\"disable-notifications\")\n",
    "        options.add_argument(\"--disable-blink-features=AutomationControlled\")\n",
    "        options.add_experimental_option(\"excludeSwitches\", [\"enable-automation\"])\n",
    "        options.add_experimental_option('useAutomationExtension', False)\n",
    "        self.driver = webdriver.Chrome(ChromeDriverManager().install())\n",
    "\n",
    "\n",
    "    #Lancer google chrome avec la page doctolib\n",
    "\n",
    "    def connect(self, url):\n",
    "        self.driver.get(url)\n",
    "        # TabsInteraction.TabsCreation(self.driver, \"https://www.doctolib.fr\", \"\")\n",
    "        # TabsInteraction.switchToTab(self.driver, 0)\n",
    "        print(\"Connecting to\", url)\n",
    "        time.sleep(1)\n",
    "\n",
    "\n",
    "    #for now we get only the first doctors that appear in the page\n",
    "    def getDoctors(self, specialization, city):\n",
    "\n",
    "        doctors = []\n",
    "\n",
    "        try :\n",
    "            #writing the specialization\n",
    "            WebDriverWait(self.driver, tempsAttente).until(EC.visibility_of_element_located((By.XPATH, '//input[@class=\"searchbar-input searchbar-query-input\"]')))\n",
    "            self.driver.find_element(By.XPATH, '//input[@class=\"searchbar-input searchbar-query-input\"]').clear()\n",
    "            self.driver.find_element(By.XPATH, '//input[@class=\"searchbar-input searchbar-query-input\"]').send_keys(specialization)\n",
    "            self.driver.find_element(By.XPATH, '//input[@class=\"searchbar-input searchbar-query-input\"]').send_keys(Keys.ENTER)\n",
    "            time.sleep(1)\n",
    "\n",
    "            #writing the city\n",
    "            WebDriverWait(self.driver, tempsAttente).until(EC.visibility_of_element_located((By.XPATH, '//input[@class=\"searchbar-input searchbar-place-input\"]')))\n",
    "            self.driver.find_element(By.XPATH, '//input[@class=\"searchbar-input searchbar-place-input\"]').clear()\n",
    "            self.driver.find_element(By.XPATH, '//input[@class=\"searchbar-input searchbar-place-input\"]').send_keys(city)\n",
    "            self.driver.find_element(By.XPATH, '//input[@class=\"searchbar-input searchbar-place-input\"]').send_keys(Keys.ENTER)\n",
    "            time.sleep(1)\n",
    "            #We need to enter the city to register it\n",
    "            \n",
    "            self.driver.find_element(By.XPATH, '//input[@class=\"searchbar-input searchbar-place-input\"]').send_keys(Keys.ENTER)\n",
    "\n",
    "            # WebDriverWait(self.driver, tempsAttente).until(EC.visibility_of_element_located((By.XPATH, '//span[@class=\"searchbar-submit-button-label dl-text-transform-none\"]')))\n",
    "            # self.driver.find_element(By.XPATH, '//span[@class=\"searchbar-submit-button-label dl-text-transform-none\"]').click()\n",
    "\n",
    "            print('Searching results for :', specialization, 'in', city, 'at', datetime.datetime.now())\n",
    "            time.sleep(2)\n",
    "\n",
    "            WebDriverWait(self.driver, 10).until(EC.visibility_of_element_located((By.XPATH, '//h4[@class=\"dl-text dl-text-body dl-text-bold dl-text-s dl-text-neutral-150 total-number-of-results dl-margin-r-8\"]')))\n",
    "            #number of doctors in city\n",
    "            nbr_result = self.driver.find_element(By.XPATH, '//h4[@class=\"dl-text dl-text-body dl-text-bold dl-text-s dl-text-neutral-150 total-number-of-results dl-margin-r-8\"]').text.split(\" \")[0]\n",
    "            #nbr of doctors we want\n",
    "            nbr = int(int(nbr_result)*0.2)\n",
    "            #nbr of pages\n",
    "            pages = nbr//20\n",
    "            # print(pages)\n",
    "\n",
    "            for _ in range(pages + 1):\n",
    "                \n",
    "                self.driver.execute_script(\"window.scrollTo(0, 6300);\")\n",
    "                \n",
    "                WebDriverWait(self.driver, tempsAttente).until(EC.visibility_of_element_located((By.XPATH, '//div[@class=\"dl-search-result\"]')))\n",
    "                docs = self.driver.find_elements(By.XPATH, '//div[@class=\"dl-search-result\"]')\n",
    "                \n",
    "                for doctor in docs:\n",
    "                    #first we get the \"easy\" features\n",
    "                    name = doctor.find_element(By.XPATH, './/h3[@data-test=\"dl-search-result-name\"]').text\n",
    "                    city = city\n",
    "                    specialization = specialization\n",
    "\n",
    "                    #the the harder ones\n",
    "                    try:\n",
    "                        WebDriverWait(self.driver, 0.5).until(EC.visibility_of_element_located((By.XPATH, './/div[@class=\"Tappable-inactive availabilities-slot\"]')))\n",
    "                        first_dispo = doctor.find_element(By.XPATH, './/div[@class=\"Tappable-inactive availabilities-slot\"]').get_attribute('aria-label')\n",
    "                    except:\n",
    "                        try:\n",
    "                            WebDriverWait(self.driver, 0.5).until(EC.visibility_of_element_located((By.XPATH, './/span[@class=\"dl-button-label\"]')))\n",
    "                            first_dispo = doctor.find_elements(By.XPATH, './/span[@class=\"dl-button-label\"]')[1].text.split(\" \")[3:5]\n",
    "                        except:\n",
    "                            first_dispo = 'null'    #means that there are no near in time disponibilites\n",
    "\n",
    "                    # print(name, first_dispo)\n",
    "                    fee = \"\"\n",
    "                    doctors.append(Doctor(name, city, specialization, first_dispo, fee))\n",
    "\n",
    "                try:\n",
    "                    WebDriverWait(self.driver, 3).until(EC.visibility_of_element_located((By.XPATH, \"//a[text()='Suivant']\")))\n",
    "                    self.driver.find_element(By.XPATH, \"//a[text()='Suivant']\").click()\n",
    "                except:\n",
    "                    pass\n",
    "        \n",
    "        except :\n",
    "            pass\n",
    "\n",
    "\n",
    "        return doctors\n",
    "\n",
    "    def getFees(self, name):\n",
    "        self.driver.find_element(By.XPATH, '//div[@class=\"logo-doctolib logo-doctolib-white\"]').click()\n",
    "\n",
    "        #writing the doctor name\n",
    "        WebDriverWait(self.driver, tempsAttente).until(EC.visibility_of_element_located((By.XPATH, '//input[@class=\"searchbar-input searchbar-query-input\"]')))\n",
    "        self.driver.find_element(By.XPATH, '//input[@class=\"searchbar-input searchbar-query-input\"]').clear()\n",
    "        self.driver.find_element(By.XPATH, '//input[@class=\"searchbar-input searchbar-query-input\"]').send_keys(name)\n",
    "        #We need to enter the city to register it\n",
    "\n",
    "        try:\n",
    "            WebDriverWait(self.driver, 0.5).until(EC.visibility_of_element_located((By.XPATH, '//input[@class=\"searchbar-input searchbar-query-input searchbar-query-input-opened\"]')))\n",
    "            self.driver.find_element(By.XPATH, '//input[@class=\"searchbar-input searchbar-query-input searchbar-query-input-opened\"]').send_keys(Keys.ENTER)\n",
    "        except:\n",
    "            return 'Weird value'\n",
    "\n",
    "        try:\n",
    "            WebDriverWait(self.driver, tempsAttente).until(EC.visibility_of_element_located((By.XPATH, '//div[@class=\"dl-profile-fee-tag\"]')))\n",
    "            fee = self.driver.find_element(By.XPATH, '//div[@class=\"dl-profile-fee-tag\"]').text\n",
    "            fee = str(int(fee.split(\" \")[0]))\n",
    "        except:\n",
    "            fee = 'Conventionné'        #if the fee tag cannot be found it means that it is conventionné\n",
    "\n",
    "        return fee\n",
    "            \n",
    "        \n"
   ]
  },
  {
   "cell_type": "markdown",
   "metadata": {},
   "source": [
    "We created a Doctor class to manipulate more easily the doctors features"
   ]
  },
  {
   "cell_type": "code",
   "execution_count": 293,
   "metadata": {},
   "outputs": [],
   "source": [
    "class Doctor():\n",
    "    def __init__(self, name, city, specialization, first_dispo, fee):\n",
    "        self.name = name\n",
    "        self.city = city\n",
    "        self.specialization = specialization\n",
    "        self.first_dispo = first_dispo\n",
    "        self.fee = fee\n",
    "\n",
    "    def features(self):\n",
    "        return(self.name, self.city, self.specialization, self.first_dispo, self.fee)"
   ]
  },
  {
   "cell_type": "markdown",
   "metadata": {},
   "source": [
    "These are the cities and specializations we looked at first :  \n",
    "Lyon and Paris are bug cities and Sancerre and Confolens are small ones, we did this in order to compare fees and disponibilites at first glance."
   ]
  },
  {
   "cell_type": "code",
   "execution_count": 294,
   "metadata": {},
   "outputs": [],
   "source": [
    "# cities = ['Poitiers', 'Rochefourchat', 'Majastres', 'Aulan', 'Rouen', 'Lorient', 'Niort', 'Valence', 'Quimper', 'Paris', 'Lyon', 'Marseille', 'Toulouse', 'Nice', 'Nantes', 'Montpellier', 'Strasbourg', 'Bordeaux', 'Lille', 'Poitiers', 'Dunkerque', 'Pau', 'Mulhouse', 'Lorient', 'Le Havre', 'Annecy', 'Troyes', 'La Rochelle', 'Amiens']\n",
    "# specializations = ['Medecin generaliste', 'Chirurgien-dentiste', 'Ophtalmologue', 'Dermatologue et venerologue', 'Cardiologue', 'Rhumatologue']\n",
    "\n",
    "cities = ['Lille', 'Poitiers', 'Dunkerque', 'Pau', 'Mulhouse', 'Lorient', 'Le Havre', 'Annecy', 'Troyes', 'La Rochelle', 'Amiens']\n",
    "specializations = ['Cardiologue', 'Rhumatologue']"
   ]
  },
  {
   "cell_type": "code",
   "execution_count": 295,
   "metadata": {},
   "outputs": [
    {
     "name": "stderr",
     "output_type": "stream",
     "text": [
      "/var/folders/bm/t8hxv1ms6s30y8czfw0pmfk00000gn/T/ipykernel_2019/337633078.py:14: DeprecationWarning: executable_path has been deprecated, please pass in a Service object\n",
      "  self.driver = webdriver.Chrome(ChromeDriverManager().install())\n"
     ]
    },
    {
     "name": "stdout",
     "output_type": "stream",
     "text": [
      "Connecting to https://www.doctolib.fr\n",
      "Searching results for : Rhumatologue in Lille at 2023-01-05 18:11:18.112571\n"
     ]
    }
   ],
   "source": [
    "connector = Driver()\n",
    "connector.connect(\"https://www.doctolib.fr\")\n",
    "doctors = []\n",
    "\n",
    "#Get all the doctors names, cities, specializations and their next possible reservation\n",
    "\n",
    "for city in cities:\n",
    "    for spec in specializations:\n",
    "        doctors = doctors + connector.getDoctors(spec, city)\n",
    "        docs = []\n",
    "        for doc in doctors:\n",
    "            docs.append(doc.features())\n",
    "        pd.DataFrame(docs, columns=['Name', 'Specialization', 'City', 'Waiting Time', 'Fees']).to_csv(\"doctors2.csv\")"
   ]
  },
  {
   "cell_type": "markdown",
   "metadata": {},
   "source": [
    "We can see that there are no disponibilites for any doctor. This means that we will have to dig for more doctors as we are only taking the first ones at the moment."
   ]
  },
  {
   "cell_type": "code",
   "execution_count": 296,
   "metadata": {},
   "outputs": [
    {
     "name": "stderr",
     "output_type": "stream",
     "text": [
      "/var/folders/bm/t8hxv1ms6s30y8czfw0pmfk00000gn/T/ipykernel_2019/337633078.py:14: DeprecationWarning: executable_path has been deprecated, please pass in a Service object\n",
      "  self.driver = webdriver.Chrome(ChromeDriverManager().install())\n"
     ]
    },
    {
     "name": "stdout",
     "output_type": "stream",
     "text": [
      "Connecting to https://www.doctolib.fr\n"
     ]
    },
    {
     "ename": "NoSuchWindowException",
     "evalue": "Message: no such window: target window already closed\nfrom unknown error: web view not found\n  (Session info: chrome=108.0.5359.124)\nStacktrace:\n0   chromedriver                        0x0000000102c6bb7c chromedriver + 4209532\n1   chromedriver                        0x0000000102bf7418 chromedriver + 3732504\n2   chromedriver                        0x00000001028aa368 chromedriver + 271208\n3   chromedriver                        0x00000001028856fc chromedriver + 120572\n4   chromedriver                        0x000000010290a660 chromedriver + 665184\n5   chromedriver                        0x000000010291cfbc chromedriver + 741308\n6   chromedriver                        0x00000001028d859c chromedriver + 460188\n7   chromedriver                        0x00000001028d9644 chromedriver + 464452\n8   chromedriver                        0x0000000102c3d30c chromedriver + 4018956\n9   chromedriver                        0x0000000102c40fd8 chromedriver + 4034520\n10  chromedriver                        0x0000000102c4711c chromedriver + 4059420\n11  chromedriver                        0x0000000102c41bac chromedriver + 4037548\n12  chromedriver                        0x0000000102c1bbb0 chromedriver + 3881904\n13  chromedriver                        0x0000000102c5e120 chromedriver + 4153632\n14  chromedriver                        0x0000000102c5e274 chromedriver + 4153972\n15  chromedriver                        0x0000000102c7282c chromedriver + 4237356\n16  libsystem_pthread.dylib             0x00000001aea8026c _pthread_start + 148\n17  libsystem_pthread.dylib             0x00000001aea7b08c thread_start + 8\n",
     "output_type": "error",
     "traceback": [
      "\u001b[0;31m---------------------------------------------------------------------------\u001b[0m",
      "\u001b[0;31mNoSuchWindowException\u001b[0m                     Traceback (most recent call last)",
      "Cell \u001b[0;32mIn [296], line 7\u001b[0m\n\u001b[1;32m      4\u001b[0m connector\u001b[38;5;241m.\u001b[39mconnect(\u001b[38;5;124m\"\u001b[39m\u001b[38;5;124mhttps://www.doctolib.fr\u001b[39m\u001b[38;5;124m\"\u001b[39m)\n\u001b[1;32m      6\u001b[0m \u001b[38;5;28;01mfor\u001b[39;00m doctor \u001b[38;5;129;01min\u001b[39;00m doctors:\n\u001b[0;32m----> 7\u001b[0m     fee \u001b[38;5;241m=\u001b[39m \u001b[43mconnector\u001b[49m\u001b[38;5;241;43m.\u001b[39;49m\u001b[43mgetFees\u001b[49m\u001b[43m(\u001b[49m\u001b[43mdoctor\u001b[49m\u001b[38;5;241;43m.\u001b[39;49m\u001b[43mname\u001b[49m\u001b[43m)\u001b[49m\n\u001b[1;32m      8\u001b[0m     doctor\u001b[38;5;241m.\u001b[39mfee \u001b[38;5;241m=\u001b[39m fee\n",
      "Cell \u001b[0;32mIn [292], line 106\u001b[0m, in \u001b[0;36mDriver.getFees\u001b[0;34m(self, name)\u001b[0m\n\u001b[1;32m    105\u001b[0m \u001b[38;5;28;01mdef\u001b[39;00m \u001b[38;5;21mgetFees\u001b[39m(\u001b[38;5;28mself\u001b[39m, name):\n\u001b[0;32m--> 106\u001b[0m     \u001b[38;5;28;43mself\u001b[39;49m\u001b[38;5;241;43m.\u001b[39;49m\u001b[43mdriver\u001b[49m\u001b[38;5;241;43m.\u001b[39;49m\u001b[43mfind_element\u001b[49m\u001b[43m(\u001b[49m\u001b[43mBy\u001b[49m\u001b[38;5;241;43m.\u001b[39;49m\u001b[43mXPATH\u001b[49m\u001b[43m,\u001b[49m\u001b[43m \u001b[49m\u001b[38;5;124;43m'\u001b[39;49m\u001b[38;5;124;43m//div[@class=\u001b[39;49m\u001b[38;5;124;43m\"\u001b[39;49m\u001b[38;5;124;43mlogo-doctolib logo-doctolib-white\u001b[39;49m\u001b[38;5;124;43m\"\u001b[39;49m\u001b[38;5;124;43m]\u001b[39;49m\u001b[38;5;124;43m'\u001b[39;49m\u001b[43m)\u001b[49m\u001b[38;5;241m.\u001b[39mclick()\n\u001b[1;32m    108\u001b[0m     \u001b[38;5;66;03m#writing the doctor name\u001b[39;00m\n\u001b[1;32m    109\u001b[0m     WebDriverWait(\u001b[38;5;28mself\u001b[39m\u001b[38;5;241m.\u001b[39mdriver, tempsAttente)\u001b[38;5;241m.\u001b[39muntil(EC\u001b[38;5;241m.\u001b[39mvisibility_of_element_located((By\u001b[38;5;241m.\u001b[39mXPATH, \u001b[38;5;124m'\u001b[39m\u001b[38;5;124m//input[@class=\u001b[39m\u001b[38;5;124m\"\u001b[39m\u001b[38;5;124msearchbar-input searchbar-query-input\u001b[39m\u001b[38;5;124m\"\u001b[39m\u001b[38;5;124m]\u001b[39m\u001b[38;5;124m'\u001b[39m)))\n",
      "File \u001b[0;32m/opt/homebrew/lib/python3.11/site-packages/selenium/webdriver/remote/webdriver.py:861\u001b[0m, in \u001b[0;36mWebDriver.find_element\u001b[0;34m(self, by, value)\u001b[0m\n\u001b[1;32m    858\u001b[0m     by \u001b[38;5;241m=\u001b[39m By\u001b[38;5;241m.\u001b[39mCSS_SELECTOR\n\u001b[1;32m    859\u001b[0m     value \u001b[38;5;241m=\u001b[39m \u001b[38;5;124m'\u001b[39m\u001b[38;5;124m[name=\u001b[39m\u001b[38;5;124m\"\u001b[39m\u001b[38;5;132;01m%s\u001b[39;00m\u001b[38;5;124m\"\u001b[39m\u001b[38;5;124m]\u001b[39m\u001b[38;5;124m'\u001b[39m \u001b[38;5;241m%\u001b[39m value\n\u001b[0;32m--> 861\u001b[0m \u001b[38;5;28;01mreturn\u001b[39;00m \u001b[38;5;28;43mself\u001b[39;49m\u001b[38;5;241;43m.\u001b[39;49m\u001b[43mexecute\u001b[49m\u001b[43m(\u001b[49m\u001b[43mCommand\u001b[49m\u001b[38;5;241;43m.\u001b[39;49m\u001b[43mFIND_ELEMENT\u001b[49m\u001b[43m,\u001b[49m\u001b[43m \u001b[49m\u001b[43m{\u001b[49m\u001b[38;5;124;43m\"\u001b[39;49m\u001b[38;5;124;43musing\u001b[39;49m\u001b[38;5;124;43m\"\u001b[39;49m\u001b[43m:\u001b[49m\u001b[43m \u001b[49m\u001b[43mby\u001b[49m\u001b[43m,\u001b[49m\u001b[43m \u001b[49m\u001b[38;5;124;43m\"\u001b[39;49m\u001b[38;5;124;43mvalue\u001b[39;49m\u001b[38;5;124;43m\"\u001b[39;49m\u001b[43m:\u001b[49m\u001b[43m \u001b[49m\u001b[43mvalue\u001b[49m\u001b[43m}\u001b[49m\u001b[43m)\u001b[49m[\u001b[38;5;124m\"\u001b[39m\u001b[38;5;124mvalue\u001b[39m\u001b[38;5;124m\"\u001b[39m]\n",
      "File \u001b[0;32m/opt/homebrew/lib/python3.11/site-packages/selenium/webdriver/remote/webdriver.py:444\u001b[0m, in \u001b[0;36mWebDriver.execute\u001b[0;34m(self, driver_command, params)\u001b[0m\n\u001b[1;32m    442\u001b[0m response \u001b[38;5;241m=\u001b[39m \u001b[38;5;28mself\u001b[39m\u001b[38;5;241m.\u001b[39mcommand_executor\u001b[38;5;241m.\u001b[39mexecute(driver_command, params)\n\u001b[1;32m    443\u001b[0m \u001b[38;5;28;01mif\u001b[39;00m response:\n\u001b[0;32m--> 444\u001b[0m     \u001b[38;5;28;43mself\u001b[39;49m\u001b[38;5;241;43m.\u001b[39;49m\u001b[43merror_handler\u001b[49m\u001b[38;5;241;43m.\u001b[39;49m\u001b[43mcheck_response\u001b[49m\u001b[43m(\u001b[49m\u001b[43mresponse\u001b[49m\u001b[43m)\u001b[49m\n\u001b[1;32m    445\u001b[0m     response[\u001b[38;5;124m\"\u001b[39m\u001b[38;5;124mvalue\u001b[39m\u001b[38;5;124m\"\u001b[39m] \u001b[38;5;241m=\u001b[39m \u001b[38;5;28mself\u001b[39m\u001b[38;5;241m.\u001b[39m_unwrap_value(response\u001b[38;5;241m.\u001b[39mget(\u001b[38;5;124m\"\u001b[39m\u001b[38;5;124mvalue\u001b[39m\u001b[38;5;124m\"\u001b[39m, \u001b[38;5;28;01mNone\u001b[39;00m))\n\u001b[1;32m    446\u001b[0m     \u001b[38;5;28;01mreturn\u001b[39;00m response\n",
      "File \u001b[0;32m/opt/homebrew/lib/python3.11/site-packages/selenium/webdriver/remote/errorhandler.py:249\u001b[0m, in \u001b[0;36mErrorHandler.check_response\u001b[0;34m(self, response)\u001b[0m\n\u001b[1;32m    247\u001b[0m         alert_text \u001b[38;5;241m=\u001b[39m value[\u001b[38;5;124m\"\u001b[39m\u001b[38;5;124malert\u001b[39m\u001b[38;5;124m\"\u001b[39m]\u001b[38;5;241m.\u001b[39mget(\u001b[38;5;124m\"\u001b[39m\u001b[38;5;124mtext\u001b[39m\u001b[38;5;124m\"\u001b[39m)\n\u001b[1;32m    248\u001b[0m     \u001b[38;5;28;01mraise\u001b[39;00m exception_class(message, screen, stacktrace, alert_text)  \u001b[38;5;66;03m# type: ignore[call-arg]  # mypy is not smart enough here\u001b[39;00m\n\u001b[0;32m--> 249\u001b[0m \u001b[38;5;28;01mraise\u001b[39;00m exception_class(message, screen, stacktrace)\n",
      "\u001b[0;31mNoSuchWindowException\u001b[0m: Message: no such window: target window already closed\nfrom unknown error: web view not found\n  (Session info: chrome=108.0.5359.124)\nStacktrace:\n0   chromedriver                        0x0000000102c6bb7c chromedriver + 4209532\n1   chromedriver                        0x0000000102bf7418 chromedriver + 3732504\n2   chromedriver                        0x00000001028aa368 chromedriver + 271208\n3   chromedriver                        0x00000001028856fc chromedriver + 120572\n4   chromedriver                        0x000000010290a660 chromedriver + 665184\n5   chromedriver                        0x000000010291cfbc chromedriver + 741308\n6   chromedriver                        0x00000001028d859c chromedriver + 460188\n7   chromedriver                        0x00000001028d9644 chromedriver + 464452\n8   chromedriver                        0x0000000102c3d30c chromedriver + 4018956\n9   chromedriver                        0x0000000102c40fd8 chromedriver + 4034520\n10  chromedriver                        0x0000000102c4711c chromedriver + 4059420\n11  chromedriver                        0x0000000102c41bac chromedriver + 4037548\n12  chromedriver                        0x0000000102c1bbb0 chromedriver + 3881904\n13  chromedriver                        0x0000000102c5e120 chromedriver + 4153632\n14  chromedriver                        0x0000000102c5e274 chromedriver + 4153972\n15  chromedriver                        0x0000000102c7282c chromedriver + 4237356\n16  libsystem_pthread.dylib             0x00000001aea8026c _pthread_start + 148\n17  libsystem_pthread.dylib             0x00000001aea7b08c thread_start + 8\n"
     ]
    }
   ],
   "source": [
    "#Now we need to find the fees for each doctor\n",
    "\n",
    "connector = Driver()\n",
    "connector.connect(\"https://www.doctolib.fr\")\n",
    "\n",
    "for doctor in doctors:\n",
    "    fee = connector.getFees(doctor.name)\n",
    "    doctor.fee = fee\n",
    "    "
   ]
  },
  {
   "cell_type": "code",
   "execution_count": null,
   "metadata": {},
   "outputs": [],
   "source": [
    "doctors_features = []\n",
    "\n",
    "for doctor in doctors:\n",
    "    doctors_features.append(doctor.features())"
   ]
  },
  {
   "cell_type": "code",
   "execution_count": null,
   "metadata": {},
   "outputs": [],
   "source": [
    "# pd.DataFrame(doctors_features, columns=['Name', 'Specialization', 'City', 'Waiting Time', 'Fees']).to_csv(\"doctors_features.csv\")"
   ]
  },
  {
   "cell_type": "code",
   "execution_count": null,
   "metadata": {},
   "outputs": [],
   "source": []
  },
  {
   "cell_type": "code",
   "execution_count": null,
   "metadata": {},
   "outputs": [
    {
     "name": "stdout",
     "output_type": "stream",
     "text": [
      "[<__main__.Doctor object at 0x1441331d0>, <__main__.Doctor object at 0x14566acd0>, <__main__.Doctor object at 0x14572f9d0>, <__main__.Doctor object at 0x1457ce690>, <__main__.Doctor object at 0x145578310>, <__main__.Doctor object at 0x1457cf710>, <__main__.Doctor object at 0x1457cfbd0>, <__main__.Doctor object at 0x1457cc790>, <__main__.Doctor object at 0x1457cd110>, <__main__.Doctor object at 0x14566b190>, <__main__.Doctor object at 0x1457cc390>, <__main__.Doctor object at 0x14566bb90>, <__main__.Doctor object at 0x144132850>, <__main__.Doctor object at 0x1457cff10>, <__main__.Doctor object at 0x14566af50>, <__main__.Doctor object at 0x1457cc8d0>, <__main__.Doctor object at 0x1457bc050>, <__main__.Doctor object at 0x14572da90>, <__main__.Doctor object at 0x14566a450>, <__main__.Doctor object at 0x1457bd7d0>, <__main__.Doctor object at 0x14566a510>, <__main__.Doctor object at 0x1457ce950>, <__main__.Doctor object at 0x14572c690>, <__main__.Doctor object at 0x14412e310>, <__main__.Doctor object at 0x14412f0d0>, <__main__.Doctor object at 0x144115050>, <__main__.Doctor object at 0x145668690>, <__main__.Doctor object at 0x144123d10>, <__main__.Doctor object at 0x14572ed10>, <__main__.Doctor object at 0x14412f590>, <__main__.Doctor object at 0x1456c6d90>, <__main__.Doctor object at 0x1457ccd10>, <__main__.Doctor object at 0x143e644d0>, <__main__.Doctor object at 0x143e65b10>, <__main__.Doctor object at 0x1457cc750>, <__main__.Doctor object at 0x145722b90>, <__main__.Doctor object at 0x1457cc610>, <__main__.Doctor object at 0x145721410>, <__main__.Doctor object at 0x14566b550>, <__main__.Doctor object at 0x1457bf6d0>]\n"
     ]
    }
   ],
   "source": [
    "print(doctors)"
   ]
  }
 ],
 "metadata": {
  "interpreter": {
   "hash": "5c7b89af1651d0b8571dde13640ecdccf7d5a6204171d6ab33e7c296e100e08a"
  },
  "kernelspec": {
   "display_name": "Python 3.11.0 64-bit",
   "language": "python",
   "name": "python3"
  },
  "language_info": {
   "codemirror_mode": {
    "name": "ipython",
    "version": 3
   },
   "file_extension": ".py",
   "mimetype": "text/x-python",
   "name": "python",
   "nbconvert_exporter": "python",
   "pygments_lexer": "ipython3",
   "version": "3.11.0"
  },
  "orig_nbformat": 4
 },
 "nbformat": 4,
 "nbformat_minor": 2
}
